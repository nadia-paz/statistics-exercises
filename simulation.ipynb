{
 "cells": [
  {
   "cell_type": "markdown",
   "id": "488fab79",
   "metadata": {},
   "source": [
    "# Simulation Exercises"
   ]
  },
  {
   "cell_type": "code",
   "execution_count": 1,
   "id": "42eac136",
   "metadata": {},
   "outputs": [],
   "source": [
    "import numpy as np\n",
    "import pandas as pd\n",
    "import matplotlib.pyplot as plt\n",
    "%config InlineBackend.figure_format = 'retina'\n",
    "import viz # curriculum example visualizations\n",
    "\n",
    "np.random.seed(29)"
   ]
  },
  {
   "cell_type": "markdown",
   "id": "44662977",
   "metadata": {},
   "source": [
    "Using the repo setup directions, setup a new local and remote repository named `statistics-exercises`. The local version of your repo should live inside of `~/codeup-data-science`. This repo should be named `statistics-exercises`.\n",
    "\n",
    "Do your work for this exercise in either a python file named `simulation.py` or a jupyter notebook named `simulation.ipynb`."
   ]
  },
  {
   "cell_type": "code",
   "execution_count": 2,
   "id": "bf536a17",
   "metadata": {},
   "outputs": [],
   "source": [
    "#Set 100_000 as a number of trials for all exercises \n",
    "n_trials= 10 ** 5"
   ]
  },
  {
   "cell_type": "markdown",
   "id": "ef95acab",
   "metadata": {},
   "source": [
    "1. How likely is it that you roll doubles when rolling two dice? "
   ]
  },
  {
   "cell_type": "code",
   "execution_count": 20,
   "id": "ab60cca1",
   "metadata": {},
   "outputs": [
    {
     "data": {
      "text/plain": [
       "array([[3, 4],\n",
       "       [3, 5],\n",
       "       [3, 4],\n",
       "       ...,\n",
       "       [3, 6],\n",
       "       [6, 2],\n",
       "       [6, 6]])"
      ]
     },
     "execution_count": 20,
     "metadata": {},
     "output_type": "execute_result"
    }
   ],
   "source": [
    "n_dice = 2\n",
    "\n",
    "rolls = np.random.choice([1, 2, 3, 4, 5, 6], size = (n_trials, n_dice))\n",
    "rolls"
   ]
  },
  {
   "cell_type": "code",
   "execution_count": 21,
   "id": "dbae770c",
   "metadata": {},
   "outputs": [
    {
     "data": {
      "text/plain": [
       "array([3])"
      ]
     },
     "execution_count": 21,
     "metadata": {},
     "output_type": "execute_result"
    }
   ],
   "source": [
    "rolls[0, :1]"
   ]
  },
  {
   "cell_type": "code",
   "execution_count": 29,
   "id": "5776dd67",
   "metadata": {},
   "outputs": [
    {
     "data": {
      "text/plain": [
       "16650"
      ]
     },
     "execution_count": 29,
     "metadata": {},
     "output_type": "execute_result"
    }
   ],
   "source": [
    "doubles_count = 0\n",
    "for i in range(n_trials):\n",
    "    if rolls[i, :1] == rolls[i, 1:]:\n",
    "        doubles_count += 1\n",
    "doubles_count"
   ]
  },
  {
   "cell_type": "code",
   "execution_count": 30,
   "id": "4ccd770f",
   "metadata": {},
   "outputs": [
    {
     "data": {
      "text/plain": [
       "0.1665"
      ]
     },
     "execution_count": 30,
     "metadata": {},
     "output_type": "execute_result"
    }
   ],
   "source": [
    "doubles_probability = doubles_count / ntrials\n",
    "doubles_probability"
   ]
  },
  {
   "cell_type": "markdown",
   "id": "fd3fab99",
   "metadata": {},
   "source": [
    "2. If you flip 8 coins, what is the probability of getting exactly 3 heads? What is the probability of getting more than 3 heads?"
   ]
  },
  {
   "cell_type": "code",
   "execution_count": 24,
   "id": "a6de375a",
   "metadata": {},
   "outputs": [
    {
     "data": {
      "text/plain": [
       "array([[False,  True,  True, ...,  True, False, False],\n",
       "       [ True, False, False, ...,  True, False,  True],\n",
       "       [False, False,  True, ...,  True,  True,  True],\n",
       "       ...,\n",
       "       [ True, False, False, ..., False, False,  True],\n",
       "       [ True, False,  True, ...,  True,  True,  True],\n",
       "       [False, False,  True, ..., False, False,  True]])"
      ]
     },
     "execution_count": 24,
     "metadata": {},
     "output_type": "execute_result"
    }
   ],
   "source": [
    "# 'Head', 'Tail'\n",
    "n_coins = 8\n",
    "#True for Heads, False for Tails\n",
    "coins_flips = np.random.choice([True, False], size = (n_trials, n_coins))\n",
    "coins_flips"
   ]
  },
  {
   "cell_type": "code",
   "execution_count": 25,
   "id": "5b3e6cdc",
   "metadata": {
    "scrolled": true
   },
   "outputs": [],
   "source": [
    "#create an array that sums all True (Heads)\n",
    "heads_count = coins_flips.sum(axis=1)"
   ]
  },
  {
   "cell_type": "code",
   "execution_count": 26,
   "id": "f148e298",
   "metadata": {},
   "outputs": [
    {
     "data": {
      "text/plain": [
       "21998"
      ]
     },
     "execution_count": 26,
     "metadata": {},
     "output_type": "execute_result"
    }
   ],
   "source": [
    "heads_3 = 0\n",
    "for c in heads_count:\n",
    "    if c == 3:\n",
    "        heads_3 += 1\n",
    "heads_3"
   ]
  },
  {
   "cell_type": "code",
   "execution_count": 28,
   "id": "c07ca4de",
   "metadata": {},
   "outputs": [
    {
     "data": {
      "text/plain": [
       "0.21998"
      ]
     },
     "metadata": {},
     "output_type": "display_data"
    }
   ],
   "source": [
    "heads_probability = heads_3 / n_trials\n",
    "display(heads_probability)"
   ]
  },
  {
   "cell_type": "markdown",
   "id": "c95d8c7d",
   "metadata": {},
   "source": [
    "3. There are approximately 3 web development cohorts for every 1 data science cohort at Codeup. Assuming that Codeup randomly selects an alumni to put on a billboard, what are the odds that the two billboards I drive past both have data science students on them?"
   ]
  },
  {
   "cell_type": "code",
   "execution_count": 72,
   "id": "ea73d81d",
   "metadata": {
    "scrolled": true
   },
   "outputs": [
    {
     "data": {
      "text/html": [
       "<div>\n",
       "<style scoped>\n",
       "    .dataframe tbody tr th:only-of-type {\n",
       "        vertical-align: middle;\n",
       "    }\n",
       "\n",
       "    .dataframe tbody tr th {\n",
       "        vertical-align: top;\n",
       "    }\n",
       "\n",
       "    .dataframe thead th {\n",
       "        text-align: right;\n",
       "    }\n",
       "</style>\n",
       "<table border=\"1\" class=\"dataframe\">\n",
       "  <thead>\n",
       "    <tr style=\"text-align: right;\">\n",
       "      <th></th>\n",
       "      <th>first</th>\n",
       "      <th>second</th>\n",
       "    </tr>\n",
       "  </thead>\n",
       "  <tbody>\n",
       "    <tr>\n",
       "      <th>0</th>\n",
       "      <td>DS</td>\n",
       "      <td>web3</td>\n",
       "    </tr>\n",
       "    <tr>\n",
       "      <th>1</th>\n",
       "      <td>web3</td>\n",
       "      <td>web3</td>\n",
       "    </tr>\n",
       "    <tr>\n",
       "      <th>2</th>\n",
       "      <td>web2</td>\n",
       "      <td>web2</td>\n",
       "    </tr>\n",
       "    <tr>\n",
       "      <th>3</th>\n",
       "      <td>web3</td>\n",
       "      <td>web2</td>\n",
       "    </tr>\n",
       "    <tr>\n",
       "      <th>4</th>\n",
       "      <td>DS</td>\n",
       "      <td>web3</td>\n",
       "    </tr>\n",
       "    <tr>\n",
       "      <th>...</th>\n",
       "      <td>...</td>\n",
       "      <td>...</td>\n",
       "    </tr>\n",
       "    <tr>\n",
       "      <th>99995</th>\n",
       "      <td>web3</td>\n",
       "      <td>web2</td>\n",
       "    </tr>\n",
       "    <tr>\n",
       "      <th>99996</th>\n",
       "      <td>DS</td>\n",
       "      <td>DS</td>\n",
       "    </tr>\n",
       "    <tr>\n",
       "      <th>99997</th>\n",
       "      <td>web1</td>\n",
       "      <td>web2</td>\n",
       "    </tr>\n",
       "    <tr>\n",
       "      <th>99998</th>\n",
       "      <td>web2</td>\n",
       "      <td>web1</td>\n",
       "    </tr>\n",
       "    <tr>\n",
       "      <th>99999</th>\n",
       "      <td>DS</td>\n",
       "      <td>web3</td>\n",
       "    </tr>\n",
       "  </tbody>\n",
       "</table>\n",
       "<p>100000 rows × 2 columns</p>\n",
       "</div>"
      ],
      "text/plain": [
       "      first second\n",
       "0        DS   web3\n",
       "1      web3   web3\n",
       "2      web2   web2\n",
       "3      web3   web2\n",
       "4        DS   web3\n",
       "...     ...    ...\n",
       "99995  web3   web2\n",
       "99996    DS     DS\n",
       "99997  web1   web2\n",
       "99998  web2   web1\n",
       "99999    DS   web3\n",
       "\n",
       "[100000 rows x 2 columns]"
      ]
     },
     "execution_count": 72,
     "metadata": {},
     "output_type": "execute_result"
    }
   ],
   "source": [
    "n_billboards = 2\n",
    "students = np.random.choice(['DS', 'web1', 'web2', 'web3'], size = (n_trials, n_billboards))\n",
    "students = pd.DataFrame(students, columns = ['first', 'second'])\n",
    "students"
   ]
  },
  {
   "cell_type": "code",
   "execution_count": 80,
   "id": "811414b8",
   "metadata": {},
   "outputs": [
    {
     "data": {
      "text/html": [
       "<div>\n",
       "<style scoped>\n",
       "    .dataframe tbody tr th:only-of-type {\n",
       "        vertical-align: middle;\n",
       "    }\n",
       "\n",
       "    .dataframe tbody tr th {\n",
       "        vertical-align: top;\n",
       "    }\n",
       "\n",
       "    .dataframe thead th {\n",
       "        text-align: right;\n",
       "    }\n",
       "</style>\n",
       "<table border=\"1\" class=\"dataframe\">\n",
       "  <thead>\n",
       "    <tr style=\"text-align: right;\">\n",
       "      <th></th>\n",
       "      <th>first</th>\n",
       "      <th>second</th>\n",
       "      <th>DS</th>\n",
       "    </tr>\n",
       "  </thead>\n",
       "  <tbody>\n",
       "    <tr>\n",
       "      <th>0</th>\n",
       "      <td>DS</td>\n",
       "      <td>web3</td>\n",
       "      <td>False</td>\n",
       "    </tr>\n",
       "    <tr>\n",
       "      <th>1</th>\n",
       "      <td>web3</td>\n",
       "      <td>web3</td>\n",
       "      <td>False</td>\n",
       "    </tr>\n",
       "    <tr>\n",
       "      <th>2</th>\n",
       "      <td>web2</td>\n",
       "      <td>web2</td>\n",
       "      <td>False</td>\n",
       "    </tr>\n",
       "    <tr>\n",
       "      <th>3</th>\n",
       "      <td>web3</td>\n",
       "      <td>web2</td>\n",
       "      <td>False</td>\n",
       "    </tr>\n",
       "    <tr>\n",
       "      <th>4</th>\n",
       "      <td>DS</td>\n",
       "      <td>web3</td>\n",
       "      <td>False</td>\n",
       "    </tr>\n",
       "    <tr>\n",
       "      <th>...</th>\n",
       "      <td>...</td>\n",
       "      <td>...</td>\n",
       "      <td>...</td>\n",
       "    </tr>\n",
       "    <tr>\n",
       "      <th>99995</th>\n",
       "      <td>web3</td>\n",
       "      <td>web2</td>\n",
       "      <td>False</td>\n",
       "    </tr>\n",
       "    <tr>\n",
       "      <th>99996</th>\n",
       "      <td>DS</td>\n",
       "      <td>DS</td>\n",
       "      <td>True</td>\n",
       "    </tr>\n",
       "    <tr>\n",
       "      <th>99997</th>\n",
       "      <td>web1</td>\n",
       "      <td>web2</td>\n",
       "      <td>False</td>\n",
       "    </tr>\n",
       "    <tr>\n",
       "      <th>99998</th>\n",
       "      <td>web2</td>\n",
       "      <td>web1</td>\n",
       "      <td>False</td>\n",
       "    </tr>\n",
       "    <tr>\n",
       "      <th>99999</th>\n",
       "      <td>DS</td>\n",
       "      <td>web3</td>\n",
       "      <td>False</td>\n",
       "    </tr>\n",
       "  </tbody>\n",
       "</table>\n",
       "<p>100000 rows × 3 columns</p>\n",
       "</div>"
      ],
      "text/plain": [
       "      first second     DS\n",
       "0        DS   web3  False\n",
       "1      web3   web3  False\n",
       "2      web2   web2  False\n",
       "3      web3   web2  False\n",
       "4        DS   web3  False\n",
       "...     ...    ...    ...\n",
       "99995  web3   web2  False\n",
       "99996    DS     DS   True\n",
       "99997  web1   web2  False\n",
       "99998  web2   web1  False\n",
       "99999    DS   web3  False\n",
       "\n",
       "[100000 rows x 3 columns]"
      ]
     },
     "metadata": {},
     "output_type": "display_data"
    },
    {
     "data": {
      "text/plain": [
       "6201"
      ]
     },
     "execution_count": 80,
     "metadata": {},
     "output_type": "execute_result"
    }
   ],
   "source": [
    "students['DS'] = (students['first'] == 'DS') & (students['second'] == 'DS')\n",
    "display(students)\n",
    "students.DS.sum()"
   ]
  },
  {
   "cell_type": "code",
   "execution_count": 68,
   "id": "686644d4",
   "metadata": {},
   "outputs": [
    {
     "data": {
      "text/plain": [
       "0.06213"
      ]
     },
     "execution_count": 68,
     "metadata": {},
     "output_type": "execute_result"
    }
   ],
   "source": [
    "# solution with numpy array\n",
    "students1 = np.random.choice(['DS', 'web1', 'web2', 'web3'], size = (n_trials, n_billboards))\n",
    "s_count = 0\n",
    "for s in students1:\n",
    "    if s[0] == 'DS' and s[1] == 'DS':\n",
    "        s_count += 1\n",
    "s_count / n_trials"
   ]
  },
  {
   "cell_type": "markdown",
   "id": "d1933121",
   "metadata": {},
   "source": [
    "4. Codeup students buy, on average, 3 poptart packages with a standard deviation of 1.5 a day from the snack vending machine. If on monday the machine is restocked with 17 poptart packages, how likely is it that I will be able to buy some poptarts on Friday afternoon? (Remember, if you have mean and standard deviation, use the np.random.normal) You'll need to make a judgement call on how to handle some of your values."
   ]
  },
  {
   "cell_type": "code",
   "execution_count": 113,
   "id": "cc564197",
   "metadata": {},
   "outputs": [
    {
     "data": {
      "text/plain": [
       "array([[ 1.66364854,  3.9741408 ,  4.46893152,  5.05349235,  1.28526485],\n",
       "       [ 5.34259414,  3.63936205, -0.60763753,  2.5101858 ,  4.80290744],\n",
       "       [ 3.10302716,  4.03647717,  3.25565699,  1.73108976,  4.41178658],\n",
       "       ...,\n",
       "       [ 3.59195508,  4.65811161, -0.47587617,  2.30423293,  2.93002948],\n",
       "       [ 0.52935102,  3.96366822,  0.5855362 ,  5.66207119,  2.65875443],\n",
       "       [ 3.27668149,  4.81250614,  6.09775479, -0.30543894,  4.59810632]])"
      ]
     },
     "execution_count": 113,
     "metadata": {},
     "output_type": "execute_result"
    }
   ],
   "source": [
    "stack = 17\n",
    "mu = 3\n",
    "sigma = 1.5\n",
    "n_days = 5\n",
    "#random buys for 5 days of week mon to fri\n",
    "poptarts = np.random.normal(mu, sigma, size = (n_trials, n_days))\n",
    "poptarts"
   ]
  },
  {
   "cell_type": "code",
   "execution_count": 116,
   "id": "55196198",
   "metadata": {},
   "outputs": [
    {
     "data": {
      "text/plain": [
       "array([16.44547807, 15.6874119 , 16.53803766, ..., 13.00845292,\n",
       "       13.39938107, 18.4796098 ])"
      ]
     },
     "metadata": {},
     "output_type": "display_data"
    },
    {
     "data": {
      "text/plain": [
       "0.72548"
      ]
     },
     "execution_count": 116,
     "metadata": {},
     "output_type": "execute_result"
    }
   ],
   "source": [
    "# check how many items bought per week\n",
    "buys = poptarts.sum(axis = 1)\n",
    "display(buys)\n",
    "(buys < stack).mean()"
   ]
  },
  {
   "cell_type": "markdown",
   "id": "fc2d4f08",
   "metadata": {},
   "source": [
    "5. Compare Heights\n",
    "\n",
    "- Men have an average height of 178 cm and standard deviation of 8cm.\n",
    "- Women have a mean of 170, sd = 6cm.\n",
    "- Since you have means and standard deviations, you can use `np.random.normal` to generate observations.\n",
    "- If a man and woman are chosen at random, what is the likelihood the woman is taller than the man?"
   ]
  },
  {
   "cell_type": "code",
   "execution_count": 3,
   "id": "088b1111",
   "metadata": {
    "scrolled": true
   },
   "outputs": [
    {
     "data": {
      "text/plain": [
       "array([174.66014299, 183.64825677, 193.32787762, ..., 177.69471557,\n",
       "       183.16628375, 183.60317424])"
      ]
     },
     "metadata": {},
     "output_type": "display_data"
    },
    {
     "data": {
      "text/plain": [
       "array([161.37004324, 171.32657141, 158.59955254, ..., 180.00215376,\n",
       "       176.85589682, 164.05611134])"
      ]
     },
     "metadata": {},
     "output_type": "display_data"
    }
   ],
   "source": [
    "men = np.random.normal(178, 8, n_trials)\n",
    "women = np.random.normal(170, 6, n_trials)\n",
    "display(men)\n",
    "display(women)"
   ]
  },
  {
   "cell_type": "code",
   "execution_count": 10,
   "id": "d238fd10",
   "metadata": {},
   "outputs": [
    {
     "data": {
      "text/plain": [
       "0.21252"
      ]
     },
     "execution_count": 10,
     "metadata": {},
     "output_type": "execute_result"
    }
   ],
   "source": [
    "random_pairs = pd.DataFrame({'Men' : men, 'Women' : women})\n",
    "random_pairs['Difference'] = (couple.Men - couple.Women) < 0\n",
    "random_pairs.Difference.mean()"
   ]
  },
  {
   "cell_type": "code",
   "execution_count": 12,
   "id": "85169178",
   "metadata": {},
   "outputs": [
    {
     "data": {
      "text/plain": [
       "0.21252"
      ]
     },
     "execution_count": 12,
     "metadata": {},
     "output_type": "execute_result"
    }
   ],
   "source": [
    "random_pairs.Difference.sum() / n_trials"
   ]
  },
  {
   "cell_type": "markdown",
   "id": "f50a31eb",
   "metadata": {},
   "source": [
    "6. When installing anaconda on a student's computer, there's a 1 in 250 chance that the download is corrupted and the installation fails. \n",
    "- What are the odds that after having 50 students download anaconda, no one has an installation issue? 100 students?\n",
    "- What is the probability that we observe an installation issue within the first 150 students that download anaconda?\n",
    "- How likely is it that 450 students all download anaconda without an issue?"
   ]
  },
  {
   "cell_type": "code",
   "execution_count": 41,
   "id": "311bbba7",
   "metadata": {},
   "outputs": [],
   "source": [
    "def count_success_prob(number):\n",
    "    '''\n",
    "    Takes a number of installations as an argument\n",
    "    Probability of success is 249/250\n",
    "    Probability of failure is 1 / 250\n",
    "    Creates n_trials (100_000) simulations\n",
    "    Returns a probability of success, when all trials are True\n",
    "    # True - no issues\n",
    "    # False - there was a problem during the instalation \n",
    "    '''\n",
    "    arr = np.random.choice([True, False], size = (n_trials, number), p = [249/250, 1/250])\n",
    "    return (arr.sum(axis = 1) == number).mean()"
   ]
  },
  {
   "cell_type": "code",
   "execution_count": 42,
   "id": "3d5ac98e",
   "metadata": {},
   "outputs": [],
   "source": [
    "def count_fail_prob(number):\n",
    "    '''\n",
    "    probability of failure = 1 - probability of success\n",
    "    '''\n",
    "    return 1 - count_success_prob1(number)"
   ]
  },
  {
   "cell_type": "code",
   "execution_count": 44,
   "id": "b8cece81",
   "metadata": {},
   "outputs": [
    {
     "data": {
      "text/plain": [
       "0.81817"
      ]
     },
     "execution_count": 44,
     "metadata": {},
     "output_type": "execute_result"
    }
   ],
   "source": [
    "#What are the odds that after having 50 students download anaconda, no one has an installation issue?\n",
    "count_success_prob(50)"
   ]
  },
  {
   "cell_type": "code",
   "execution_count": 45,
   "id": "8a6d5f07",
   "metadata": {},
   "outputs": [
    {
     "data": {
      "text/plain": [
       "0.67085"
      ]
     },
     "execution_count": 45,
     "metadata": {},
     "output_type": "execute_result"
    }
   ],
   "source": [
    "# 100?\n",
    "count_success_prob1(100)"
   ]
  },
  {
   "cell_type": "code",
   "execution_count": 46,
   "id": "54cffbfb",
   "metadata": {},
   "outputs": [
    {
     "data": {
      "text/plain": [
       "0.44753"
      ]
     },
     "execution_count": 46,
     "metadata": {},
     "output_type": "execute_result"
    }
   ],
   "source": [
    "count_fail_prob(150)"
   ]
  },
  {
   "cell_type": "code",
   "execution_count": 47,
   "id": "14faace3",
   "metadata": {},
   "outputs": [
    {
     "data": {
      "text/plain": [
       "0.16685"
      ]
     },
     "execution_count": 47,
     "metadata": {},
     "output_type": "execute_result"
    }
   ],
   "source": [
    "# How likely is it that 450 students all download anaconda without an issue?\n",
    "count_success_prob(450)"
   ]
  },
  {
   "cell_type": "code",
   "execution_count": 40,
   "id": "b96dd64f",
   "metadata": {},
   "outputs": [
    {
     "data": {
      "text/plain": [
       "0.16458"
      ]
     },
     "execution_count": 40,
     "metadata": {},
     "output_type": "execute_result"
    }
   ],
   "source": [
    "count_success_prob1(450)"
   ]
  },
  {
   "cell_type": "markdown",
   "id": "f23b5566",
   "metadata": {},
   "source": [
    "7. There's a 70% chance on any given day that there will be at least one food truck at Travis Park. \n",
    "- However, you haven't seen a food truck there in 3 days. How unlikely is this?\n",
    "- How likely is it that a food truck will show up sometime this week?"
   ]
  },
  {
   "cell_type": "code",
   "execution_count": 54,
   "id": "c97f5cdb",
   "metadata": {},
   "outputs": [
    {
     "data": {
      "text/plain": [
       "0.02621"
      ]
     },
     "execution_count": 54,
     "metadata": {},
     "output_type": "execute_result"
    }
   ],
   "source": [
    "# You haven't seen a food truck there in 3 days. How unlikely is this?\n",
    "food_truck = np.random.choice([True, False], size = (n_trials, 3), p = [0.7, 0.3])\n",
    "(food_truck.sum(axis = 1) == 0).mean()"
   ]
  },
  {
   "cell_type": "code",
   "execution_count": 57,
   "id": "87374440",
   "metadata": {},
   "outputs": [
    {
     "data": {
      "text/plain": [
       "0.99974"
      ]
     },
     "execution_count": 57,
     "metadata": {},
     "output_type": "execute_result"
    }
   ],
   "source": [
    "# How likely is it that a food truck will show up sometime this week?\n",
    "food_truck1 = np.random.choice([True, False], size = (n_trials, 7), p = [0.7, 0.3])\n",
    "(food_truck1.sum(axis = 1) >= 1).mean()"
   ]
  },
  {
   "cell_type": "markdown",
   "id": "ba5e822d",
   "metadata": {},
   "source": [
    "8. If 23 people are in the same room, what are the odds that two of them share a birthday? What if it's 20 people? 40 people?"
   ]
  },
  {
   "cell_type": "code",
   "execution_count": 59,
   "id": "1ddde472",
   "metadata": {},
   "outputs": [
    {
     "data": {
      "text/plain": [
       "365"
      ]
     },
     "execution_count": 59,
     "metadata": {},
     "output_type": "execute_result"
    }
   ],
   "source": [
    "days_in_year = range(1, 366)\n",
    "len(days_in_year)"
   ]
  },
  {
   "cell_type": "code",
   "execution_count": 71,
   "id": "7ae42776",
   "metadata": {},
   "outputs": [],
   "source": [
    "def same_birthday_prob(number_of_people):\n",
    "    days_in_year = range(1, 366)\n",
    "    df = pd.DataFrame(np.random.choice(days_in_year, size=(n_trials, number_of_people)))\n",
    "    return (df.nunique(axis = 1) < number_of_people).mean()                        "
   ]
  },
  {
   "cell_type": "code",
   "execution_count": 72,
   "id": "4372dce1",
   "metadata": {},
   "outputs": [
    {
     "data": {
      "text/plain": [
       "0.50596"
      ]
     },
     "execution_count": 72,
     "metadata": {},
     "output_type": "execute_result"
    }
   ],
   "source": [
    "same_birthday_prob(23)"
   ]
  },
  {
   "cell_type": "code",
   "execution_count": 97,
   "id": "c306d66f",
   "metadata": {},
   "outputs": [
    {
     "data": {
      "text/plain": [
       "0.4109"
      ]
     },
     "execution_count": 97,
     "metadata": {},
     "output_type": "execute_result"
    }
   ],
   "source": [
    "same_birthday_prob(20)"
   ]
  },
  {
   "cell_type": "code",
   "execution_count": 98,
   "id": "d5bcb3a3",
   "metadata": {},
   "outputs": [
    {
     "data": {
      "text/plain": [
       "0.89221"
      ]
     },
     "execution_count": 98,
     "metadata": {},
     "output_type": "execute_result"
    }
   ],
   "source": [
    "same_birthday_prob(40)"
   ]
  },
  {
   "cell_type": "code",
   "execution_count": 93,
   "id": "554a959b",
   "metadata": {},
   "outputs": [],
   "source": [
    "def same_birthday_prob1(number_of_people):\n",
    "    days_in_year = range(1, 366)\n",
    "    arr = np.random.choice(days_in_year, size=(n_trials, number_of_people))\n",
    "    count = 0\n",
    "    for trial in arr:\n",
    "        if len(np.unique(trial)) < number_of_people:\n",
    "            count += 1\n",
    "    return count / n_trials"
   ]
  },
  {
   "cell_type": "code",
   "execution_count": 94,
   "id": "0f73ac58",
   "metadata": {},
   "outputs": [
    {
     "data": {
      "text/plain": [
       "0.50716"
      ]
     },
     "execution_count": 94,
     "metadata": {},
     "output_type": "execute_result"
    }
   ],
   "source": [
    "same_birthday_prob1(23)"
   ]
  },
  {
   "cell_type": "code",
   "execution_count": 95,
   "id": "974e21d4",
   "metadata": {},
   "outputs": [
    {
     "data": {
      "text/plain": [
       "0.41146"
      ]
     },
     "execution_count": 95,
     "metadata": {},
     "output_type": "execute_result"
    }
   ],
   "source": [
    "same_birthday_prob1(20)"
   ]
  },
  {
   "cell_type": "code",
   "execution_count": 96,
   "id": "35fc7947",
   "metadata": {},
   "outputs": [
    {
     "data": {
      "text/plain": [
       "0.89212"
      ]
     },
     "execution_count": 96,
     "metadata": {},
     "output_type": "execute_result"
    }
   ],
   "source": [
    "same_birthday_prob1(40)"
   ]
  }
 ],
 "metadata": {
  "kernelspec": {
   "display_name": "Python 3 (ipykernel)",
   "language": "python",
   "name": "python3"
  },
  "language_info": {
   "codemirror_mode": {
    "name": "ipython",
    "version": 3
   },
   "file_extension": ".py",
   "mimetype": "text/x-python",
   "name": "python",
   "nbconvert_exporter": "python",
   "pygments_lexer": "ipython3",
   "version": "3.9.12"
  }
 },
 "nbformat": 4,
 "nbformat_minor": 5
}
