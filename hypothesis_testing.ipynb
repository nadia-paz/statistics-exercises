{
 "cells": [
  {
   "cell_type": "markdown",
   "id": "61cf3818",
   "metadata": {},
   "source": [
    "## Hypothesis testing\n",
    "\n",
    "For each of the following questions, formulate a null and alternative hypothesis (be as specific as you can be), then give an example of what a true positive, true negative, type I and type II errors would look like. Note that some of the questions are intentionally phrased in a vague way. It is your job to reword these as more precise questions that could be tested."
   ]
  },
  {
   "cell_type": "markdown",
   "id": "31809177",
   "metadata": {},
   "source": [
    "- **Has the network latency gone up since we switched internet service providers?**\n",
    "\n",
    "$H_0$: There is not relationship between the network speed and switching the internet service providers\n",
    "\n",
    "$H_a$: The network speed decreased after switching internet service providers\n",
    "\n",
    "*True negative:* There is no relationship between the internet service providers and network speed, and we don't switch provider back\n",
    "\n",
    "*True positive:* The network speed decreased after switching internet providers and we returned to the previous provider\n",
    "\n",
    "*Type I error (False positive):* The network speed didn't change but we thought different and returned to the old provider\n",
    "\n",
    "*Type II error (False negative):* The network speed decreased but we didn't confirm it and stayed with the new internet service provider"
   ]
  },
  {
   "cell_type": "markdown",
   "id": "3a20331a",
   "metadata": {},
   "source": [
    "- **Is the website redesign any good?**\n",
    "\n",
    "$H_0$: There is no difference between the time visitors spend on the site before and after the redesign\n",
    "\n",
    "$H_a$: Visitors spend more time on the site after it was redesigned\n",
    "\n",
    "*True negative:* There is no difference between site redesign and increasing of time spending on the site, updating of the site is not needed\n",
    "\n",
    "*True positive:* There is a differerence between the redesign and the time visitors spend time on the site, we need to update\n",
    "\n",
    "*Type I error (False positive):* There is no difference between site redesign and increasing of time spending on the site, but we thought differently and spent exra money on the site update\n",
    "\n",
    "*Type II error (False negative):* There is a differerence between the redesign and the time visitors spend time on the site, but we didn't recognize it and missed the opportunity to update our site"
   ]
  },
  {
   "cell_type": "markdown",
   "id": "5f552805",
   "metadata": {},
   "source": [
    "- **Is our television ad driving more sales?**\n",
    "\n",
    "$H_0$: The amount of sales didn't change since the beginning of tv marketing campaign \n",
    "\n",
    "$H_a$: There is an increase of sales since the beginning of tv marketing campaign \n",
    "\n",
    "*True negative:* The amount of sales didn't change since the beginning of tv marketing campaign and we don't continue this campaign\n",
    "\n",
    "*True positive:* The amount of sales increased since the beginning of tv marketing campaign and we continue this campaign\n",
    "\n",
    "*Type I error (False positive):* The amount of sales didn't change since the beginning of tv marketing campaign but we decided to continue this campaign\n",
    "\n",
    "*Type II error (False negative):* The amount of sales increased since the beginning of tv marketing campaign but we cancel the campaign "
   ]
  },
  {
   "cell_type": "code",
   "execution_count": null,
   "id": "0cc07d5d",
   "metadata": {},
   "outputs": [],
   "source": []
  }
 ],
 "metadata": {
  "kernelspec": {
   "display_name": "Python 3 (ipykernel)",
   "language": "python",
   "name": "python3"
  },
  "language_info": {
   "codemirror_mode": {
    "name": "ipython",
    "version": 3
   },
   "file_extension": ".py",
   "mimetype": "text/x-python",
   "name": "python",
   "nbconvert_exporter": "python",
   "pygments_lexer": "ipython3",
   "version": "3.9.12"
  }
 },
 "nbformat": 4,
 "nbformat_minor": 5
}
