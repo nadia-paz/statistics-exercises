{
 "cells": [
  {
   "cell_type": "markdown",
   "id": "c96f1223",
   "metadata": {},
   "source": [
    "## Hypothesis testing\n",
    "\n",
    "For each of the following questions, formulate a null and alternative hypothesis (be as specific as you can be), then give an example of what a true positive, true negative, type I and type II errors would look like. Note that some of the questions are intentionally phrased in a vague way. It is your job to reword these as more precise questions that could be tested."
   ]
  },
  {
   "cell_type": "markdown",
   "id": "22f112fb",
   "metadata": {},
   "source": [
    "- **Has the network latency gone up since we switched internet service providers?**\n",
    "\n",
    "$H_0$: There is not relationship between the network speed and switching the internet service providers\n",
    "\n",
    "$H_a$: The network speed decreased after switching internet service providers\n",
    "\n",
    "*True negative:* There is no relationship between the internet service providers and network speed, and we don't switch provider back\n",
    "\n",
    "*True positive:* The network speed decreased after switching internet providers and we returned to the previous provider\n",
    "\n",
    "*Type I error (False positive):* The network speed didn't change but we thought different and returned to the old provider\n",
    "\n",
    "*Type II error (False negative):* The network speed decreased but we didn't confirm it and stayed with the new internet service provider"
   ]
  },
  {
   "cell_type": "code",
   "execution_count": 1,
   "id": "99574870",
   "metadata": {},
   "outputs": [],
   "source": [
    "#class solution"
   ]
  },
  {
   "cell_type": "markdown",
   "id": "0af1f42e",
   "metadata": {},
   "source": [
    "Variables: discrete and continuous. Testing difference\n",
    "\n",
    "$H_0$: $\\mu(latency_a) <= \\mu(latency_b)$\n",
    "\n",
    "$H_a$: $\\mu(latance_a) > \\mu(latency_b)$\n",
    "\n",
    "*True positive:* latency went up and we said it went up\n",
    "\n",
    "*True negative:* latency didn't go up and we said it didn't go up\n",
    "\n",
    "*Type I (False positive):* latency didn't go up but we said it did\n",
    "\n",
    "*Type II (False negative):* latency did go up, but we said it didn't"
   ]
  },
  {
   "cell_type": "markdown",
   "id": "684f6168",
   "metadata": {},
   "source": [
    "- **Is the website redesign any good?**\n",
    "\n",
    "$H_0$: There is no difference between the time visitors spend on the site before and after the redesign\n",
    "\n",
    "$H_a$: Visitors spend more time on the site after it was redesigned\n",
    "\n",
    "*True negative:* There is no difference between site redesign and increasing of time spending on the site, updating of the site is not needed\n",
    "\n",
    "*True positive:* There is a differerence between the redesign and the time visitors spend time on the site, we need to update\n",
    "\n",
    "*Type I error (False positive):* There is no difference between site redesign and increasing of time spending on the site, but we thought differently and spent exra money on the site update\n",
    "\n",
    "*Type II error (False negative):* There is a differerence between the redesign and the time visitors spend time on the site, but we didn't recognize it and missed the opportunity to update our site"
   ]
  },
  {
   "cell_type": "code",
   "execution_count": null,
   "id": "e57d5673",
   "metadata": {},
   "outputs": [],
   "source": [
    "#class "
   ]
  },
  {
   "cell_type": "markdown",
   "id": "dd1bc89a",
   "metadata": {},
   "source": [
    "Variables discrete (old and new design) and conitnuos (time spent ob the web site)\n",
    "\n",
    "$H-0$: time spent on the old site >= time spent on the new site\n",
    "\n",
    "$H_a$: time spent on the old site < time spent on the new site\n",
    "\n",
    "*TP:* Visiotrs spend more time on the new site and we said so\n",
    "\n",
    "*TN:* Visitors spend less or equal time and we said \n",
    "\n",
    "*T1:* We said the site is better but it's not\n",
    "\n",
    "*T2:* Time spent increased but we still concoder the redesign bad"
   ]
  },
  {
   "cell_type": "markdown",
   "id": "0bcc3c5d",
   "metadata": {},
   "source": [
    "- **Is our television ad driving more sales?**\n",
    "\n",
    "$H_0$: The amount of sales didn't change since the beginning of tv marketing campaign \n",
    "\n",
    "$H_a$: There is an increase of sales since the beginning of tv marketing campaign \n",
    "\n",
    "*True negative:* The amount of sales didn't change since the beginning of tv marketing campaign and we don't continue this campaign\n",
    "\n",
    "*True positive:* The amount of sales increased since the beginning of tv marketing campaign and we continue this campaign\n",
    "\n",
    "*Type I error (False positive):* The amount of sales didn't change since the beginning of tv marketing campaign but we decided to continue this campaign\n",
    "\n",
    "*Type II error (False negative):* The amount of sales increased since the beginning of tv marketing campaign but we cancel the campaign "
   ]
  },
  {
   "cell_type": "markdown",
   "id": "401e4863",
   "metadata": {},
   "source": [
    "Discrete var (pre-ads), continuous var (sales)\n",
    "$H_0$: avg pre-ad >= avg post-ad\n",
    "\n",
    "$H_a$: avg pre-ad < avg post-ad\n",
    "\n",
    "*TP:* sales increased after ad and we said that\n",
    "\n",
    "*TN:* sales didn't\n",
    "\n",
    "*T1:* sales didn't increase, but we said they did\n",
    "\n",
    "*T2:* ads seem to work but we didn't think so"
   ]
  },
  {
   "cell_type": "markdown",
   "id": "d588bc75",
   "metadata": {},
   "source": [
    "### Part 2"
   ]
  },
  {
   "cell_type": "markdown",
   "id": "78fb9756",
   "metadata": {},
   "source": [
    "1. **Answer with the type of test you would use (assume normal distribution):**\n",
    "\n",
    "- Is there a difference in grades of students on the second floor compared to grades of all students?"
   ]
  },
  {
   "cell_type": "markdown",
   "id": "a7d68460",
   "metadata": {},
   "source": [
    "*Two tailed one sample T-test ```scipy.stats.ttest_1samp```, check if* $p-value < \\alpha$"
   ]
  },
  {
   "cell_type": "markdown",
   "id": "102e873d",
   "metadata": {},
   "source": [
    "- Are adults who drink milk taller than adults who dont drink milk?"
   ]
  },
  {
   "cell_type": "markdown",
   "id": "65000a4f",
   "metadata": {},
   "source": [
    "*One tailed two sampled (or independent) T-test ```stats.ttest_ind```. Check if all assumptions met. In case we can not apply T-test, use Mann-Whitney U test ```stats.mannwhitneyu```*"
   ]
  },
  {
   "cell_type": "markdown",
   "id": "3186525f",
   "metadata": {},
   "source": [
    "- Is the the price of gas higher in texas or in new mexico?"
   ]
  },
  {
   "cell_type": "markdown",
   "id": "3fcd881e",
   "metadata": {},
   "source": [
    "*Same as above. One tailed two sampled (or independent) T-test ```stats.ttest_ind```. Preferable to use T-test and pass ```equal_var == False``` in case variances differ a lot.*"
   ]
  },
  {
   "cell_type": "markdown",
   "id": "ec0a82ac",
   "metadata": {},
   "source": [
    "- Are there differences in stress levels between students who take data science vs students who take web development vs students who take cloud academy?"
   ]
  },
  {
   "cell_type": "markdown",
   "id": "09dfbb63",
   "metadata": {},
   "source": [
    "*If all assumptions met (independent samples, equal variances, normal distribution) we use ANOVA analysis ```stats.f_oneway```, otherwise Kruskall Wallis test ```stats.kruskal```"
   ]
  },
  {
   "cell_type": "code",
   "execution_count": 31,
   "id": "97d52973",
   "metadata": {},
   "outputs": [],
   "source": [
    "import numpy as np\n",
    "import seaborn as sns\n",
    "import scipy.stats as stats\n",
    "import pandas as pd\n",
    "import matplotlib.pyplot as plt\n",
    "from pydataset import data"
   ]
  },
  {
   "cell_type": "markdown",
   "id": "711c43a4",
   "metadata": {},
   "source": [
    "2. **Ace Realty wants to determine whether the average time it takes to sell homes is different for its two offices. A sample of 40 sales from office #1 revealed a mean of 90 days and a standard deviation of 15 days. A sample of 50 sales from office #2 revealed a mean of 100 days and a standard deviation of 20 days. Use a .05 level of significance.**"
   ]
  },
  {
   "cell_type": "markdown",
   "id": "f54cb725",
   "metadata": {},
   "source": [
    "$H_0$: there is no significant difference in the average time it takes for office 1 and office 2 to sell homes\n",
    "\n",
    "$H_a$: there is a difference in the time it take to sell homes for office 1 and office 2"
   ]
  },
  {
   "cell_type": "code",
   "execution_count": 11,
   "id": "a5f867f0",
   "metadata": {},
   "outputs": [],
   "source": [
    "office1 = stats.norm(90, 15).rvs(40).astype(int)\n",
    "office2 = stats.norm(100, 20).rvs(50).astype(int)"
   ]
  },
  {
   "cell_type": "code",
   "execution_count": 55,
   "id": "29f01cf1",
   "metadata": {},
   "outputs": [],
   "source": [
    "#significance level = 0.05\n",
    "\n",
    "α = 0.05"
   ]
  },
  {
   "cell_type": "markdown",
   "id": "c905f422",
   "metadata": {},
   "source": [
    "Verify assumptions for 2-tailed independent T-test (indepent, normal). To verify that variances are equal run Levene test. Return the 2nd value, which is going to be p-value for variances. If the returned result > 0.05, we can assume that variances are equal:"
   ]
  },
  {
   "cell_type": "code",
   "execution_count": 19,
   "id": "1ef0fa9b",
   "metadata": {},
   "outputs": [
    {
     "data": {
      "text/plain": [
       "0.18243347772960214"
      ]
     },
     "execution_count": 19,
     "metadata": {},
     "output_type": "execute_result"
    }
   ],
   "source": [
    "stats.levene(office1, office2)[1]"
   ]
  },
  {
   "cell_type": "markdown",
   "id": "fba4a82d",
   "metadata": {},
   "source": [
    "P-value for variances is 0.18 and it's bigger that 0.05, we can use paraetric T-test"
   ]
  },
  {
   "cell_type": "code",
   "execution_count": 69,
   "id": "9705af7e",
   "metadata": {},
   "outputs": [
    {
     "data": {
      "text/plain": [
       "(-2.1038439883896936, 0.038245315037194326)"
      ]
     },
     "execution_count": 69,
     "metadata": {},
     "output_type": "execute_result"
    }
   ],
   "source": [
    "#run the Independent T-test\n",
    "t, p = stats.ttest_ind(office1, office2)\n",
    "(t, p)"
   ]
  },
  {
   "cell_type": "code",
   "execution_count": 71,
   "id": "c71b9539",
   "metadata": {},
   "outputs": [
    {
     "name": "stdout",
     "output_type": "stream",
     "text": [
      "There is a difference in the time it takes to sell homes. It takes more time for office #\n"
     ]
    }
   ],
   "source": [
    "if p < α and t < 0:\n",
    "    print('There is a difference in the time it takes to sell homes. It takes more time for office #')\n",
    "elif p < α and t > 0:\n",
    "    print('There is a difference in the time it takes to sell homes. It takes more time for office #')\n",
    "else:\n",
    "    print('There is no significant difference in the time it takes to sell homes between 2 offices. \\\n",
    "We fail to reject the Null Hypothesis.')"
   ]
  },
  {
   "cell_type": "markdown",
   "id": "6a728fa0",
   "metadata": {},
   "source": [
    "2. **Load the mpg dataset and use it to answer the following questions:**"
   ]
  },
  {
   "cell_type": "code",
   "execution_count": 32,
   "id": "0f44cd37",
   "metadata": {},
   "outputs": [],
   "source": [
    "mpg = data('mpg')"
   ]
  },
  {
   "cell_type": "code",
   "execution_count": 33,
   "id": "c29e7612",
   "metadata": {},
   "outputs": [
    {
     "data": {
      "text/html": [
       "<div>\n",
       "<style scoped>\n",
       "    .dataframe tbody tr th:only-of-type {\n",
       "        vertical-align: middle;\n",
       "    }\n",
       "\n",
       "    .dataframe tbody tr th {\n",
       "        vertical-align: top;\n",
       "    }\n",
       "\n",
       "    .dataframe thead th {\n",
       "        text-align: right;\n",
       "    }\n",
       "</style>\n",
       "<table border=\"1\" class=\"dataframe\">\n",
       "  <thead>\n",
       "    <tr style=\"text-align: right;\">\n",
       "      <th></th>\n",
       "      <th>manufacturer</th>\n",
       "      <th>model</th>\n",
       "      <th>displ</th>\n",
       "      <th>year</th>\n",
       "      <th>cyl</th>\n",
       "      <th>trans</th>\n",
       "      <th>drv</th>\n",
       "      <th>cty</th>\n",
       "      <th>hwy</th>\n",
       "      <th>fl</th>\n",
       "      <th>class</th>\n",
       "    </tr>\n",
       "  </thead>\n",
       "  <tbody>\n",
       "    <tr>\n",
       "      <th>1</th>\n",
       "      <td>audi</td>\n",
       "      <td>a4</td>\n",
       "      <td>1.8</td>\n",
       "      <td>1999</td>\n",
       "      <td>4</td>\n",
       "      <td>auto(l5)</td>\n",
       "      <td>f</td>\n",
       "      <td>18</td>\n",
       "      <td>29</td>\n",
       "      <td>p</td>\n",
       "      <td>compact</td>\n",
       "    </tr>\n",
       "    <tr>\n",
       "      <th>2</th>\n",
       "      <td>audi</td>\n",
       "      <td>a4</td>\n",
       "      <td>1.8</td>\n",
       "      <td>1999</td>\n",
       "      <td>4</td>\n",
       "      <td>manual(m5)</td>\n",
       "      <td>f</td>\n",
       "      <td>21</td>\n",
       "      <td>29</td>\n",
       "      <td>p</td>\n",
       "      <td>compact</td>\n",
       "    </tr>\n",
       "    <tr>\n",
       "      <th>3</th>\n",
       "      <td>audi</td>\n",
       "      <td>a4</td>\n",
       "      <td>2.0</td>\n",
       "      <td>2008</td>\n",
       "      <td>4</td>\n",
       "      <td>manual(m6)</td>\n",
       "      <td>f</td>\n",
       "      <td>20</td>\n",
       "      <td>31</td>\n",
       "      <td>p</td>\n",
       "      <td>compact</td>\n",
       "    </tr>\n",
       "    <tr>\n",
       "      <th>4</th>\n",
       "      <td>audi</td>\n",
       "      <td>a4</td>\n",
       "      <td>2.0</td>\n",
       "      <td>2008</td>\n",
       "      <td>4</td>\n",
       "      <td>auto(av)</td>\n",
       "      <td>f</td>\n",
       "      <td>21</td>\n",
       "      <td>30</td>\n",
       "      <td>p</td>\n",
       "      <td>compact</td>\n",
       "    </tr>\n",
       "    <tr>\n",
       "      <th>5</th>\n",
       "      <td>audi</td>\n",
       "      <td>a4</td>\n",
       "      <td>2.8</td>\n",
       "      <td>1999</td>\n",
       "      <td>6</td>\n",
       "      <td>auto(l5)</td>\n",
       "      <td>f</td>\n",
       "      <td>16</td>\n",
       "      <td>26</td>\n",
       "      <td>p</td>\n",
       "      <td>compact</td>\n",
       "    </tr>\n",
       "  </tbody>\n",
       "</table>\n",
       "</div>"
      ],
      "text/plain": [
       "  manufacturer model  displ  year  cyl       trans drv  cty  hwy fl    class\n",
       "1         audi    a4    1.8  1999    4    auto(l5)   f   18   29  p  compact\n",
       "2         audi    a4    1.8  1999    4  manual(m5)   f   21   29  p  compact\n",
       "3         audi    a4    2.0  2008    4  manual(m6)   f   20   31  p  compact\n",
       "4         audi    a4    2.0  2008    4    auto(av)   f   21   30  p  compact\n",
       "5         audi    a4    2.8  1999    6    auto(l5)   f   16   26  p  compact"
      ]
     },
     "execution_count": 33,
     "metadata": {},
     "output_type": "execute_result"
    }
   ],
   "source": [
    "mpg.head()"
   ]
  },
  {
   "cell_type": "markdown",
   "id": "cfa3564e",
   "metadata": {},
   "source": [
    "- Is there a difference in fuel-efficiency in cars from 2008 vs 1999?"
   ]
  },
  {
   "cell_type": "code",
   "execution_count": 40,
   "id": "947a807f",
   "metadata": {},
   "outputs": [
    {
     "data": {
      "text/html": [
       "<div>\n",
       "<style scoped>\n",
       "    .dataframe tbody tr th:only-of-type {\n",
       "        vertical-align: middle;\n",
       "    }\n",
       "\n",
       "    .dataframe tbody tr th {\n",
       "        vertical-align: top;\n",
       "    }\n",
       "\n",
       "    .dataframe thead th {\n",
       "        text-align: right;\n",
       "    }\n",
       "</style>\n",
       "<table border=\"1\" class=\"dataframe\">\n",
       "  <thead>\n",
       "    <tr style=\"text-align: right;\">\n",
       "      <th></th>\n",
       "      <th>manufacturer</th>\n",
       "      <th>model</th>\n",
       "      <th>displ</th>\n",
       "      <th>year</th>\n",
       "      <th>cyl</th>\n",
       "      <th>trans</th>\n",
       "      <th>drv</th>\n",
       "      <th>cty</th>\n",
       "      <th>hwy</th>\n",
       "      <th>fl</th>\n",
       "      <th>class</th>\n",
       "      <th>fuel_eff</th>\n",
       "    </tr>\n",
       "  </thead>\n",
       "  <tbody>\n",
       "    <tr>\n",
       "      <th>1</th>\n",
       "      <td>audi</td>\n",
       "      <td>a4</td>\n",
       "      <td>1.8</td>\n",
       "      <td>1999</td>\n",
       "      <td>4</td>\n",
       "      <td>auto(l5)</td>\n",
       "      <td>f</td>\n",
       "      <td>18</td>\n",
       "      <td>29</td>\n",
       "      <td>p</td>\n",
       "      <td>compact</td>\n",
       "      <td>22.21</td>\n",
       "    </tr>\n",
       "    <tr>\n",
       "      <th>2</th>\n",
       "      <td>audi</td>\n",
       "      <td>a4</td>\n",
       "      <td>1.8</td>\n",
       "      <td>1999</td>\n",
       "      <td>4</td>\n",
       "      <td>manual(m5)</td>\n",
       "      <td>f</td>\n",
       "      <td>21</td>\n",
       "      <td>29</td>\n",
       "      <td>p</td>\n",
       "      <td>compact</td>\n",
       "      <td>24.36</td>\n",
       "    </tr>\n",
       "    <tr>\n",
       "      <th>3</th>\n",
       "      <td>audi</td>\n",
       "      <td>a4</td>\n",
       "      <td>2.0</td>\n",
       "      <td>2008</td>\n",
       "      <td>4</td>\n",
       "      <td>manual(m6)</td>\n",
       "      <td>f</td>\n",
       "      <td>20</td>\n",
       "      <td>31</td>\n",
       "      <td>p</td>\n",
       "      <td>compact</td>\n",
       "      <td>24.31</td>\n",
       "    </tr>\n",
       "    <tr>\n",
       "      <th>4</th>\n",
       "      <td>audi</td>\n",
       "      <td>a4</td>\n",
       "      <td>2.0</td>\n",
       "      <td>2008</td>\n",
       "      <td>4</td>\n",
       "      <td>auto(av)</td>\n",
       "      <td>f</td>\n",
       "      <td>21</td>\n",
       "      <td>30</td>\n",
       "      <td>p</td>\n",
       "      <td>compact</td>\n",
       "      <td>24.71</td>\n",
       "    </tr>\n",
       "    <tr>\n",
       "      <th>5</th>\n",
       "      <td>audi</td>\n",
       "      <td>a4</td>\n",
       "      <td>2.8</td>\n",
       "      <td>1999</td>\n",
       "      <td>6</td>\n",
       "      <td>auto(l5)</td>\n",
       "      <td>f</td>\n",
       "      <td>16</td>\n",
       "      <td>26</td>\n",
       "      <td>p</td>\n",
       "      <td>compact</td>\n",
       "      <td>19.81</td>\n",
       "    </tr>\n",
       "  </tbody>\n",
       "</table>\n",
       "</div>"
      ],
      "text/plain": [
       "  manufacturer model  displ  year  cyl       trans drv  cty  hwy fl    class  \\\n",
       "1         audi    a4    1.8  1999    4    auto(l5)   f   18   29  p  compact   \n",
       "2         audi    a4    1.8  1999    4  manual(m5)   f   21   29  p  compact   \n",
       "3         audi    a4    2.0  2008    4  manual(m6)   f   20   31  p  compact   \n",
       "4         audi    a4    2.0  2008    4    auto(av)   f   21   30  p  compact   \n",
       "5         audi    a4    2.8  1999    6    auto(l5)   f   16   26  p  compact   \n",
       "\n",
       "   fuel_eff  \n",
       "1     22.21  \n",
       "2     24.36  \n",
       "3     24.31  \n",
       "4     24.71  \n",
       "5     19.81  "
      ]
     },
     "execution_count": 40,
     "metadata": {},
     "output_type": "execute_result"
    }
   ],
   "source": [
    "mpg['fuel_eff'] =  round(2 / ((1/mpg.hwy) + (1/mpg.cty)), 2)\n",
    "mpg.head()"
   ]
  },
  {
   "cell_type": "code",
   "execution_count": 41,
   "id": "9e28fabb",
   "metadata": {},
   "outputs": [],
   "source": [
    "models1999 = mpg[mpg.year == 1999].fuel_eff"
   ]
  },
  {
   "cell_type": "code",
   "execution_count": 44,
   "id": "9f4630a2",
   "metadata": {},
   "outputs": [
    {
     "data": {
      "text/plain": [
       "1    22.21\n",
       "2    24.36\n",
       "5    19.81\n",
       "6    21.27\n",
       "8    21.27\n",
       "Name: fuel_eff, dtype: float64"
      ]
     },
     "execution_count": 44,
     "metadata": {},
     "output_type": "execute_result"
    }
   ],
   "source": [
    "models1999.head()"
   ]
  },
  {
   "cell_type": "code",
   "execution_count": 46,
   "id": "a942311e",
   "metadata": {},
   "outputs": [],
   "source": [
    "models2008 = mpg[mpg.year == 2008].fuel_eff"
   ]
  },
  {
   "cell_type": "code",
   "execution_count": 52,
   "id": "17ac8fae",
   "metadata": {},
   "outputs": [
    {
     "data": {
      "text/plain": [
       "0.8604763910415811"
      ]
     },
     "execution_count": 52,
     "metadata": {},
     "output_type": "execute_result"
    }
   ],
   "source": [
    "#check if variances are equal\n",
    "stats.levene(models1999, models2008)[1] \n",
    "#p-value is 0.86, we can consider variances eual and use ind. T-tes"
   ]
  },
  {
   "cell_type": "markdown",
   "id": "318e221d",
   "metadata": {},
   "source": [
    "$H_0$: models1999 == models2008\n",
    "\n",
    "$H_a$: models1999 != models2008"
   ]
  },
  {
   "cell_type": "code",
   "execution_count": 73,
   "id": "bddd8f4a",
   "metadata": {},
   "outputs": [
    {
     "data": {
      "text/plain": [
       "(0.29976841281243016, 0.7646222117552022)"
      ]
     },
     "execution_count": 73,
     "metadata": {},
     "output_type": "execute_result"
    }
   ],
   "source": [
    "t1, p1 = stats.ttest_ind(models1999, models2008)\n",
    "(t1, p1)"
   ]
  },
  {
   "cell_type": "code",
   "execution_count": 75,
   "id": "41ea2a94",
   "metadata": {},
   "outputs": [
    {
     "name": "stdout",
     "output_type": "stream",
     "text": [
      "There is no significant difference in the fuel efficiency between cars from 1999 and cars from 2008\n"
     ]
    }
   ],
   "source": [
    "if p1 / 2 < α and t1 < 0:\n",
    "    print('Cars from 1999 were more fuel efficient')\n",
    "if p1 / 2 < α and t1 > 0:\n",
    "    print('Cars from 2008 are more fuel efficient')\n",
    "else:\n",
    "    print('There is no significant difference in the fuel efficiency between cars from 1999 and cars from 2008')"
   ]
  },
  {
   "cell_type": "markdown",
   "id": "93c2ef49",
   "metadata": {},
   "source": [
    "- Are compact cars more fuel-efficient than the average car?\n",
    "\n",
    "$H_0$: compact eff <= avg eff\n",
    "\n",
    "$H_a$: compact eff > avg eff\n",
    "\n",
    "One tailed, 1 sampled t-test"
   ]
  },
  {
   "cell_type": "code",
   "execution_count": 58,
   "id": "aeb92159",
   "metadata": {},
   "outputs": [
    {
     "data": {
      "text/plain": [
       "19.59"
      ]
     },
     "execution_count": 58,
     "metadata": {},
     "output_type": "execute_result"
    }
   ],
   "source": [
    "total_mean = round(mpg.fuel_eff.mean(), 2)\n",
    "total_mean"
   ]
  },
  {
   "cell_type": "code",
   "execution_count": 63,
   "id": "23908e33",
   "metadata": {},
   "outputs": [
    {
     "data": {
      "text/plain": [
       "23.500212765957446"
      ]
     },
     "execution_count": 63,
     "metadata": {},
     "output_type": "execute_result"
    }
   ],
   "source": [
    "compact_cars.mean()"
   ]
  },
  {
   "cell_type": "code",
   "execution_count": 60,
   "id": "bde1f8c6",
   "metadata": {},
   "outputs": [
    {
     "data": {
      "text/plain": [
       "1    22.21\n",
       "2    24.36\n",
       "3    24.31\n",
       "4    24.71\n",
       "5    19.81\n",
       "Name: fuel_eff, dtype: float64"
      ]
     },
     "execution_count": 60,
     "metadata": {},
     "output_type": "execute_result"
    }
   ],
   "source": [
    "compact_cars = mpg[mpg['class'] == 'compact'].fuel_eff\n",
    "compact_cars.head()"
   ]
  },
  {
   "cell_type": "code",
   "execution_count": 62,
   "id": "54af81be",
   "metadata": {},
   "outputs": [
    {
     "data": {
      "text/plain": [
       "(7.5022246266558446, 1.6170060887332524e-09)"
      ]
     },
     "execution_count": 62,
     "metadata": {},
     "output_type": "execute_result"
    }
   ],
   "source": [
    "tcompact, pcompact = stats.ttest_1samp(compact_cars, total_mean)\n",
    "(tcompact, pcompact)"
   ]
  },
  {
   "cell_type": "code",
   "execution_count": 65,
   "id": "b13da787",
   "metadata": {},
   "outputs": [
    {
     "name": "stdout",
     "output_type": "stream",
     "text": [
      "Compact cares are less fuel efficient\n"
     ]
    }
   ],
   "source": [
    "# We use one tailed test, p-value / 2 < alpha\n",
    "\n",
    "if pcompact/ 2 < α and pcompact > 0:\n",
    "    print('Compact cares are more fuel efficient')\n",
    "else:\n",
    "    print('There is no significant difference in the fuel efficiency between compact cars and other cars')"
   ]
  },
  {
   "cell_type": "markdown",
   "id": "90cccb3a",
   "metadata": {},
   "source": [
    "- Do manual cars get better gas mileage than automatic cars?"
   ]
  },
  {
   "cell_type": "markdown",
   "id": "367bf4e6",
   "metadata": {},
   "source": [
    "$H_0$: fuel_eff(manual) <= fuel_eff(auto)\n",
    "\n",
    "$H_a$: fuel_eff(manual) > fuel_eff(auto)\n",
    "\n",
    "*One tailed, 2 sampled*"
   ]
  },
  {
   "cell_type": "code",
   "execution_count": 78,
   "id": "7444db3b",
   "metadata": {},
   "outputs": [],
   "source": [
    "manual = mpg[mpg.trans.str.contains('manual')].fuel_eff"
   ]
  },
  {
   "cell_type": "code",
   "execution_count": 80,
   "id": "23c060da",
   "metadata": {},
   "outputs": [],
   "source": [
    "auto = mpg[mpg.trans.str.contains('auto')].fuel_eff"
   ]
  },
  {
   "cell_type": "code",
   "execution_count": 81,
   "id": "8266db1a",
   "metadata": {},
   "outputs": [
    {
     "data": {
      "text/plain": [
       "0.9068872019462125"
      ]
     },
     "execution_count": 81,
     "metadata": {},
     "output_type": "execute_result"
    }
   ],
   "source": [
    "stats.levene(manual, auto)[1] # p-value > alpha, variances are ok"
   ]
  },
  {
   "cell_type": "code",
   "execution_count": 82,
   "id": "3e1f697b",
   "metadata": {},
   "outputs": [
    {
     "data": {
      "text/plain": [
       "(4.652099934834949, 5.522151036980458e-06)"
      ]
     },
     "execution_count": 82,
     "metadata": {},
     "output_type": "execute_result"
    }
   ],
   "source": [
    "ttrans, ptrans = stats.ttest_ind(manual, auto)\n",
    "(ttrans, ptrans)"
   ]
  },
  {
   "cell_type": "code",
   "execution_count": 83,
   "id": "c7059eff",
   "metadata": {},
   "outputs": [
    {
     "name": "stdout",
     "output_type": "stream",
     "text": [
      "The manual cars get better gas mileage\n"
     ]
    }
   ],
   "source": [
    "if ptrans / 2 < α and ttrans > 0:\n",
    "    print('The manual cars get better gas mileage')\n",
    "else:\n",
    "    print('There is no difference')"
   ]
  }
 ],
 "metadata": {
  "kernelspec": {
   "display_name": "Python 3 (ipykernel)",
   "language": "python",
   "name": "python3"
  },
  "language_info": {
   "codemirror_mode": {
    "name": "ipython",
    "version": 3
   },
   "file_extension": ".py",
   "mimetype": "text/x-python",
   "name": "python",
   "nbconvert_exporter": "python",
   "pygments_lexer": "ipython3",
   "version": "3.9.12"
  }
 },
 "nbformat": 4,
 "nbformat_minor": 5
}
