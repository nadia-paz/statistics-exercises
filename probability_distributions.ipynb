{
 "cells": [
  {
   "cell_type": "markdown",
   "id": "e385a616",
   "metadata": {},
   "source": [
    "Probability distributions"
   ]
  },
  {
   "cell_type": "code",
   "execution_count": 41,
   "id": "3eb1746d",
   "metadata": {},
   "outputs": [],
   "source": [
    "import pandas as pd\n",
    "import numpy as np\n",
    "import matplotlib.pyplot as plt\n",
    "from scipy import stats\n",
    "%config InlineBackend.figure_format = 'retina'\n",
    "from env import get_db_url"
   ]
  },
  {
   "cell_type": "markdown",
   "id": "b2e00251",
   "metadata": {},
   "source": [
    "For the following problems, use python to simulate the problem and calculate an experimental probability, then compare that to the theoretical probability.\n",
    "\n",
    "1. A bank found that the average number of cars waiting during the noon hour at a drive-up window follows a Poisson distribution with a mean of 2 cars. Make a chart of this distribution and answer these questions concerning the probability of cars waiting at the drive-up window.\n",
    "\n",
    "- What is the probability that no cars drive up in the noon hour?\n",
    "- What is the probability that 3 or more cars come through the drive through?\n",
    "- How likely is it that the drive through gets at least 1 car?"
   ]
  },
  {
   "cell_type": "code",
   "execution_count": 4,
   "id": "e35e8d8c",
   "metadata": {},
   "outputs": [],
   "source": [
    "λ1 = 2\n",
    "cars_dist = stats.poisson(λ1)"
   ]
  },
  {
   "cell_type": "code",
   "execution_count": 70,
   "id": "345599df",
   "metadata": {},
   "outputs": [
    {
     "data": {
      "text/plain": [
       "0.13614"
      ]
     },
     "execution_count": 70,
     "metadata": {},
     "output_type": "execute_result"
    }
   ],
   "source": [
    "(cars_dist.rvs(100_000) == 0).mean()"
   ]
  },
  {
   "cell_type": "code",
   "execution_count": 5,
   "id": "41a9ce9e",
   "metadata": {},
   "outputs": [
    {
     "data": {
      "text/plain": [
       "0.1353352832366127"
      ]
     },
     "execution_count": 5,
     "metadata": {},
     "output_type": "execute_result"
    }
   ],
   "source": [
    "# What is the probability that no cars drive up in the noon hour?\n",
    "cars_dist.pmf(0)"
   ]
  },
  {
   "cell_type": "code",
   "execution_count": 72,
   "id": "4a9d8dee",
   "metadata": {},
   "outputs": [
    {
     "data": {
      "text/plain": [
       "0.32332358381693654"
      ]
     },
     "execution_count": 72,
     "metadata": {},
     "output_type": "execute_result"
    }
   ],
   "source": [
    "# What is the probability that 3 or more cars come through the drive through?\n",
    "cars_dist.sf(2)"
   ]
  },
  {
   "cell_type": "code",
   "execution_count": 71,
   "id": "8899f9e1",
   "metadata": {},
   "outputs": [
    {
     "data": {
      "text/plain": [
       "0.32499"
      ]
     },
     "execution_count": 71,
     "metadata": {},
     "output_type": "execute_result"
    }
   ],
   "source": [
    "(cars_dist.rvs(100_000) >= 3).mean()"
   ]
  },
  {
   "cell_type": "code",
   "execution_count": 79,
   "id": "a79d84fe",
   "metadata": {},
   "outputs": [
    {
     "data": {
      "text/plain": [
       "0.8646647167633873"
      ]
     },
     "execution_count": 79,
     "metadata": {},
     "output_type": "execute_result"
    }
   ],
   "source": [
    "#How likely is it that the drive through gets at least 1 car?\n",
    "cars_dist.sf(0)"
   ]
  },
  {
   "cell_type": "code",
   "execution_count": 78,
   "id": "e6611b4b",
   "metadata": {},
   "outputs": [
    {
     "data": {
      "text/plain": [
       "0.86553"
      ]
     },
     "execution_count": 78,
     "metadata": {},
     "output_type": "execute_result"
    }
   ],
   "source": [
    "(cars_dist.rvs(100_000) > 0).mean()"
   ]
  },
  {
   "cell_type": "markdown",
   "id": "e06fbbb3",
   "metadata": {},
   "source": [
    "2. Grades of State University graduates are normally distributed with a mean of 3.0 and a standard deviation of .3. Calculate the following:\n",
    "\n",
    "- What grade point average is required to be in the top 5% of the graduating class?\n",
    "- What GPA constitutes the bottom 15% of the class?\n",
    "- An eccentric alumnus left scholarship money for students in the third decile from the bottom of their class. Determine the range of the third decile. Would a student with a 2.8 grade point average qualify for this scholarship?\n",
    "- If I have a GPA of 3.5, what percentile am I in?"
   ]
  },
  {
   "cell_type": "code",
   "execution_count": 15,
   "id": "9c331890",
   "metadata": {},
   "outputs": [],
   "source": [
    "grades = stats.norm(3.0, .3)"
   ]
  },
  {
   "cell_type": "code",
   "execution_count": 45,
   "id": "f0aac39d",
   "metadata": {},
   "outputs": [
    {
     "data": {
      "image/png": "[encoded data removed]",
      "text/plain": [
       "<Figure size 432x288 with 1 Axes>"
      ]
     },
     "metadata": {
      "image/png": {
       "height": 248,
       "width": 388
      },
      "needs_background": "light"
     },
     "output_type": "display_data"
    }
   ],
   "source": [
    "plt.hist(grades.rvs(100_000));"
   ]
  },
  {
   "cell_type": "code",
   "execution_count": 18,
   "id": "d88e2105",
   "metadata": {},
   "outputs": [
    {
     "data": {
      "text/plain": [
       "3.4934560880854417"
      ]
     },
     "execution_count": 18,
     "metadata": {},
     "output_type": "execute_result"
    }
   ],
   "source": [
    "# What grade point average is required to be in the top 5% of the graduating class?\n",
    "grades.isf(.05)"
   ]
  },
  {
   "cell_type": "code",
   "execution_count": 96,
   "id": "d9a82d2d",
   "metadata": {},
   "outputs": [
    {
     "data": {
      "text/plain": [
       "3.4850510289168213"
      ]
     },
     "execution_count": 96,
     "metadata": {},
     "output_type": "execute_result"
    }
   ],
   "source": [
    "np.sort(np.array(grades.rvs(10_000)))[9500]"
   ]
  },
  {
   "cell_type": "code",
   "execution_count": 19,
   "id": "a3bf3595",
   "metadata": {},
   "outputs": [
    {
     "data": {
      "text/plain": [
       "2.689069983151863"
      ]
     },
     "execution_count": 19,
     "metadata": {},
     "output_type": "execute_result"
    }
   ],
   "source": [
    "# What GPA constitutes the bottom 15% of the class?\n",
    "grades.ppf(.15)"
   ]
  },
  {
   "cell_type": "code",
   "execution_count": 21,
   "id": "bad1def0",
   "metadata": {},
   "outputs": [
    {
     "data": {
      "text/plain": [
       "2.842679846187588"
      ]
     },
     "execution_count": 21,
     "metadata": {},
     "output_type": "execute_result"
    }
   ],
   "source": [
    "grades.ppf(.3)"
   ]
  },
  {
   "cell_type": "code",
   "execution_count": 22,
   "id": "71870074",
   "metadata": {},
   "outputs": [
    {
     "data": {
      "text/plain": [
       "2.7475136299281258"
      ]
     },
     "execution_count": 22,
     "metadata": {},
     "output_type": "execute_result"
    }
   ],
   "source": [
    "grades.ppf(.2)"
   ]
  },
  {
   "cell_type": "markdown",
   "id": "324a6fc3",
   "metadata": {},
   "source": [
    "Range is from 2.7475 to 2.84268. 2.8 qualifies for the scholarship"
   ]
  },
  {
   "cell_type": "code",
   "execution_count": 23,
   "id": "06b592ea",
   "metadata": {},
   "outputs": [
    {
     "data": {
      "text/plain": [
       "0.9522096477271853"
      ]
     },
     "execution_count": 23,
     "metadata": {},
     "output_type": "execute_result"
    }
   ],
   "source": [
    "#If I have a GPA of 3.5, what percentile am I in?\n",
    "grades.cdf(3.5)"
   ]
  },
  {
   "cell_type": "markdown",
   "id": "34b84258",
   "metadata": {},
   "source": [
    "3. A marketing website has an average click-through rate of 2%. One day they observe 4326 visitors and 97 click-throughs. How likely is it that this many people or more click through?"
   ]
  },
  {
   "cell_type": "code",
   "execution_count": 42,
   "id": "061ff142",
   "metadata": {},
   "outputs": [],
   "source": [
    "clicks_dist = stats.binom(4326, 0.02)"
   ]
  },
  {
   "cell_type": "code",
   "execution_count": 43,
   "id": "f099d1d4",
   "metadata": {},
   "outputs": [
    {
     "data": {
      "text/plain": [
       "0.11781530585978467"
      ]
     },
     "execution_count": 43,
     "metadata": {},
     "output_type": "execute_result"
    }
   ],
   "source": [
    "clicks_dist.sf(97)"
   ]
  },
  {
   "cell_type": "markdown",
   "id": "bb73df79",
   "metadata": {},
   "source": [
    "4. You are working on some statistics homework consisting of 100 questions where all of the answers are a probability rounded to the hundreths place. Looking to save time, you put down random probabilities as the answer to each question.\n",
    "\n",
    "- What is the probability that at least one of your first 60 answers is correct?"
   ]
  },
  {
   "cell_type": "code",
   "execution_count": 46,
   "id": "26992e25",
   "metadata": {},
   "outputs": [],
   "source": [
    "correct = stats.binom(60, 0.01)"
   ]
  },
  {
   "cell_type": "code",
   "execution_count": 47,
   "id": "555e7993",
   "metadata": {},
   "outputs": [
    {
     "data": {
      "text/plain": [
       "0.331610086297431"
      ]
     },
     "execution_count": 47,
     "metadata": {},
     "output_type": "execute_result"
    }
   ],
   "source": [
    "correct.pmf(1)"
   ]
  },
  {
   "cell_type": "markdown",
   "id": "08648b91",
   "metadata": {},
   "source": [
    "5. The codeup staff tends to get upset when the student break area is not cleaned up. Suppose that there's a 3% chance that any one student cleans the break area when they visit it, and, on any given day, about 90% of the 3 active cohorts of 22 students visit the break area. How likely is it that the break area gets cleaned up each day? How likely is it that it goes two days without getting cleaned up? All week?"
   ]
  },
  {
   "cell_type": "code",
   "execution_count": 31,
   "id": "fd4857b6",
   "metadata": {},
   "outputs": [
    {
     "data": {
      "text/plain": [
       "59.4"
      ]
     },
     "execution_count": 31,
     "metadata": {},
     "output_type": "execute_result"
    }
   ],
   "source": [
    "students_visiting = 22 * 3 * .9\n",
    "students_visiting"
   ]
  },
  {
   "cell_type": "code",
   "execution_count": 33,
   "id": "0a13f844",
   "metadata": {},
   "outputs": [],
   "source": [
    "area_cleaned = stats.binom(students_visiting, 0.03)"
   ]
  },
  {
   "cell_type": "code",
   "execution_count": 36,
   "id": "e348aac7",
   "metadata": {},
   "outputs": [
    {
     "data": {
      "text/plain": [
       "0.0015896346915486553"
      ]
     },
     "execution_count": 36,
     "metadata": {},
     "output_type": "execute_result"
    }
   ],
   "source": [
    "area_cleaned.pmf()"
   ]
  },
  {
   "cell_type": "code",
   "execution_count": null,
   "id": "e2f87e33",
   "metadata": {},
   "outputs": [],
   "source": []
  },
  {
   "cell_type": "code",
   "execution_count": null,
   "id": "676dab15",
   "metadata": {},
   "outputs": [],
   "source": []
  },
  {
   "cell_type": "markdown",
   "id": "5fee83ad",
   "metadata": {},
   "source": [
    "6. You want to get lunch at La Panaderia, but notice that the line is usually very long at lunchtime. After several weeks of careful observation, you notice that the average number of people in line when your lunch break starts is normally distributed with a mean of 15 and standard deviation of 3. If it takes 2 minutes for each person to order, and 10 minutes from ordering to getting your food, what is the likelihood that you have at least 15 minutes left to eat your food before you have to go back to class? Assume you have one hour for lunch, and ignore travel time to and from La Panaderia."
   ]
  },
  {
   "cell_type": "code",
   "execution_count": 37,
   "id": "cb4afd72",
   "metadata": {},
   "outputs": [],
   "source": [
    "line = stats.norm(15, 3)"
   ]
  },
  {
   "cell_type": "code",
   "execution_count": 39,
   "id": "b268b24e",
   "metadata": {},
   "outputs": [
    {
     "data": {
      "text/plain": [
       "17.5"
      ]
     },
     "execution_count": 39,
     "metadata": {},
     "output_type": "execute_result"
    }
   ],
   "source": [
    "max_ppl_in_line = (60 - 15 - 10) / 2\n",
    "max_ppl_in_line"
   ]
  },
  {
   "cell_type": "code",
   "execution_count": 40,
   "id": "9d878cf6",
   "metadata": {},
   "outputs": [
    {
     "data": {
      "text/plain": [
       "0.7976716190363569"
      ]
     },
     "execution_count": 40,
     "metadata": {},
     "output_type": "execute_result"
    }
   ],
   "source": [
    "line.cdf(max_ppl_in_line)"
   ]
  },
  {
   "cell_type": "markdown",
   "id": "1be21292",
   "metadata": {},
   "source": [
    "7. Connect to the employees database and find the average salary of current employees, along with the standard deviation. For the following questions, calculate the answer based on modeling the employees salaries with a normal distribution defined by the calculated mean and standard deviation then compare this answer to the actual values present in the salaries dataset.\n",
    "\n",
    "- a) What percent of employees earn less than 60,000?\n",
    "- b) What percent of employees earn more than 95,000?\n",
    "- c) What percent of employees earn between 65,000 and 80,000?\n",
    "- d) What do the top 5% of employees make?"
   ]
  },
  {
   "cell_type": "code",
   "execution_count": 51,
   "id": "196bfd72",
   "metadata": {},
   "outputs": [],
   "source": [
    "sql = '''\n",
    "SELECT *\n",
    "FROM salaries\n",
    "WHERE to_date > NOW()\n",
    "'''\n",
    "\n",
    "url = get_db_url('employees')"
   ]
  },
  {
   "cell_type": "code",
   "execution_count": 53,
   "id": "83b533ff",
   "metadata": {},
   "outputs": [],
   "source": [
    "salaries = pd.read_sql(sql, url)"
   ]
  },
  {
   "cell_type": "code",
   "execution_count": 54,
   "id": "46f135f4",
   "metadata": {},
   "outputs": [
    {
     "data": {
      "text/html": [
       "<div>\n",
       "<style scoped>\n",
       "    .dataframe tbody tr th:only-of-type {\n",
       "        vertical-align: middle;\n",
       "    }\n",
       "\n",
       "    .dataframe tbody tr th {\n",
       "        vertical-align: top;\n",
       "    }\n",
       "\n",
       "    .dataframe thead th {\n",
       "        text-align: right;\n",
       "    }\n",
       "</style>\n",
       "<table border=\"1\" class=\"dataframe\">\n",
       "  <thead>\n",
       "    <tr style=\"text-align: right;\">\n",
       "      <th></th>\n",
       "      <th>emp_no</th>\n",
       "      <th>salary</th>\n",
       "      <th>from_date</th>\n",
       "      <th>to_date</th>\n",
       "    </tr>\n",
       "  </thead>\n",
       "  <tbody>\n",
       "    <tr>\n",
       "      <th>0</th>\n",
       "      <td>10001</td>\n",
       "      <td>88958</td>\n",
       "      <td>2002-06-22</td>\n",
       "      <td>9999-01-01</td>\n",
       "    </tr>\n",
       "    <tr>\n",
       "      <th>1</th>\n",
       "      <td>10002</td>\n",
       "      <td>72527</td>\n",
       "      <td>2001-08-02</td>\n",
       "      <td>9999-01-01</td>\n",
       "    </tr>\n",
       "    <tr>\n",
       "      <th>2</th>\n",
       "      <td>10003</td>\n",
       "      <td>43311</td>\n",
       "      <td>2001-12-01</td>\n",
       "      <td>9999-01-01</td>\n",
       "    </tr>\n",
       "    <tr>\n",
       "      <th>3</th>\n",
       "      <td>10004</td>\n",
       "      <td>74057</td>\n",
       "      <td>2001-11-27</td>\n",
       "      <td>9999-01-01</td>\n",
       "    </tr>\n",
       "    <tr>\n",
       "      <th>4</th>\n",
       "      <td>10005</td>\n",
       "      <td>94692</td>\n",
       "      <td>2001-09-09</td>\n",
       "      <td>9999-01-01</td>\n",
       "    </tr>\n",
       "  </tbody>\n",
       "</table>\n",
       "</div>"
      ],
      "text/plain": [
       "   emp_no  salary   from_date     to_date\n",
       "0   10001   88958  2002-06-22  9999-01-01\n",
       "1   10002   72527  2001-08-02  9999-01-01\n",
       "2   10003   43311  2001-12-01  9999-01-01\n",
       "3   10004   74057  2001-11-27  9999-01-01\n",
       "4   10005   94692  2001-09-09  9999-01-01"
      ]
     },
     "execution_count": 54,
     "metadata": {},
     "output_type": "execute_result"
    }
   ],
   "source": [
    "salaries.head()"
   ]
  },
  {
   "cell_type": "code",
   "execution_count": 55,
   "id": "852d1254",
   "metadata": {},
   "outputs": [
    {
     "data": {
      "text/plain": [
       "72012.23585730705"
      ]
     },
     "execution_count": 55,
     "metadata": {},
     "output_type": "execute_result"
    }
   ],
   "source": [
    "avg_salary = salaries.salary.mean()\n",
    "avg_salary"
   ]
  },
  {
   "cell_type": "code",
   "execution_count": 57,
   "id": "6e444020",
   "metadata": {},
   "outputs": [
    {
     "data": {
      "text/plain": [
       "17309.99538025198"
      ]
     },
     "execution_count": 57,
     "metadata": {},
     "output_type": "execute_result"
    }
   ],
   "source": [
    "std_salary = salaries.salary.std()\n",
    "std_salary"
   ]
  },
  {
   "cell_type": "code",
   "execution_count": 58,
   "id": "84af7d1a",
   "metadata": {},
   "outputs": [],
   "source": [
    "salary_dist = stats.norm(avg_salary, std_salary)"
   ]
  },
  {
   "cell_type": "code",
   "execution_count": 63,
   "id": "65ad99e9",
   "metadata": {},
   "outputs": [
    {
     "data": {
      "text/plain": [
       "0.24385742480214423"
      ]
     },
     "execution_count": 63,
     "metadata": {},
     "output_type": "execute_result"
    }
   ],
   "source": [
    "# a) What percent of employees earn less than 60,000?\n",
    "salary_dist.cdf(60_000)"
   ]
  },
  {
   "cell_type": "code",
   "execution_count": 65,
   "id": "15ee4b25",
   "metadata": {},
   "outputs": [
    {
     "data": {
      "text/plain": [
       "0.09208819199804053"
      ]
     },
     "execution_count": 65,
     "metadata": {},
     "output_type": "execute_result"
    }
   ],
   "source": [
    "# b) What percent of employees earn more than 95,000?\n",
    "salary_dist.sf(95_000)"
   ]
  },
  {
   "cell_type": "code",
   "execution_count": 66,
   "id": "cfb66b48",
   "metadata": {},
   "outputs": [
    {
     "data": {
      "text/plain": [
       "0.3350605685446666"
      ]
     },
     "execution_count": 66,
     "metadata": {},
     "output_type": "execute_result"
    }
   ],
   "source": [
    "# c) What percent of employees earn between 65,000 and 80,000?\n",
    "salary_dist.cdf(80_000) - salary_dist.cdf(65_000)"
   ]
  },
  {
   "cell_type": "code",
   "execution_count": 62,
   "id": "740e5cd6",
   "metadata": {},
   "outputs": [],
   "source": [
    "# d) What do the top 5% of employees make?"
   ]
  },
  {
   "cell_type": "code",
   "execution_count": 67,
   "id": "be511e57",
   "metadata": {},
   "outputs": [
    {
     "data": {
      "text/plain": [
       "100484.64454102777"
      ]
     },
     "execution_count": 67,
     "metadata": {},
     "output_type": "execute_result"
    }
   ],
   "source": [
    "salary_dist.isf(0.05)"
   ]
  },
  {
   "cell_type": "code",
   "execution_count": null,
   "id": "c6844303",
   "metadata": {},
   "outputs": [],
   "source": []
  }
 ],
 "metadata": {
  "kernelspec": {
   "display_name": "Python 3 (ipykernel)",
   "language": "python",
   "name": "python3"
  },
  "language_info": {
   "codemirror_mode": {
    "name": "ipython",
    "version": 3
   },
   "file_extension": ".py",
   "mimetype": "text/x-python",
   "name": "python",
   "nbconvert_exporter": "python",
   "pygments_lexer": "ipython3",
   "version": "3.9.12"
  }
 },
 "nbformat": 4,
 "nbformat_minor": 5
}
